{
 "cells": [
  {
   "cell_type": "code",
   "execution_count": 10,
   "metadata": {
    "collapsed": false
   },
   "outputs": [
    {
     "name": "stdout",
     "output_type": "stream",
     "text": [
      "<Response [200]>\n",
      "evaluation result : dddd\n"
     ]
    }
   ],
   "source": [
    "import requests \n",
    "import json\n",
    "import tensorflow as tf \n",
    "import logging \n",
    "from django.conf import settings \n",
    "from PIL import Image, ImageFilter \n",
    "#from tfmsacore import netconf \n",
    "#from tfmsacore.utils.json_conv import JsonDataConverter as jc \n",
    "import datetime \n",
    "\n",
    "url = \"52.79.189.190:8000\"\n",
    "\n",
    "\n",
    "resp = requests.post('http://' + url + '/api/v1/type/rule/target/cate/',\n",
    "                     json={\n",
    "                         \"nn_id\": \"nn0000045\",\n",
    "                         \"category\": \"MES\",\n",
    "                         \"subcate\" : \"csv\",\n",
    "                         \"name\": \"CENSUS_INCOME\",\n",
    "                         \"desc\" : \"INCOME PREDICT\"\n",
    "                     })\n",
    "\n",
    "print(resp)\n",
    "data = json.loads(resp.json())\n",
    "print(\"evaluation result : {0}\".format(data))\n"
   ]
  },
  {
   "cell_type": "code",
   "execution_count": null,
   "metadata": {
    "collapsed": true
   },
   "outputs": [],
   "source": []
  }
 ],
 "metadata": {
  "kernelspec": {
   "display_name": "Python [conda root]",
   "language": "python",
   "name": "conda-root-py"
  },
  "language_info": {
   "codemirror_mode": {
    "name": "ipython",
    "version": 3
   },
   "file_extension": ".py",
   "mimetype": "text/x-python",
   "name": "python",
   "nbconvert_exporter": "python",
   "pygments_lexer": "ipython3",
   "version": "3.5.2"
  }
 },
 "nbformat": 4,
 "nbformat_minor": 1
}
