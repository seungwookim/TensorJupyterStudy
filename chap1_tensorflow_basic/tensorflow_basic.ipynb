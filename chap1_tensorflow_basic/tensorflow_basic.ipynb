{
 "cells": [
  {
   "cell_type": "markdown",
   "metadata": {
    "collapsed": true
   },
   "source": [
    "# Basic Opearion in Tensorflow\n",
    "\n",
    "<H3>(1) Graph 와 Session </H3>   \n",
    "Tensorflow 는 Constant, Placeholder, Variable 등의 변수 형태를 지원하며, Constant 는 값이 변하지 않는 상수 값을 정의하는 용도로 사용한다.  \n",
    "Variable 은 주로 Perceptron 의 Weight 와 Bias 값과 같이 초기 값을 지정하되, 훈련에 따라 값이 변경될 수 있는 변수이다.   \n",
    "PlaceHolder 는 주로 Train 하려고 하는 Data Feed 를 위한 변수 정의로 특정한 초기값을 지정하지 않는다.   \n",
    "Tensorflow 는 Graph 라는 개념과 Session 이라는 개념을 가지고 있는데, Graph 는 NeuralNetwork의 BackPropagation을 용이하게 하기위한 경로 설계 정도의 개념으로 생각할 수 있으며, 정의된 Graph 에 실제 Train 하고자 하는 데이터를 넣고 BackPropagation 을 수행하면서 각각의 W와 B 값을 Update 하는 작업으로 볼 수 있다. 모든 언어의 시작이 그런것 처럼 Hello World 부터 시작해 보자 ! "
   ]
  },
  {
   "cell_type": "code",
   "execution_count": 1,
   "metadata": {
    "collapsed": false,
    "nbpresent": {
     "id": "78e0ac11-1961-463b-8278-c78675d12213"
    },
    "scrolled": true
   },
   "outputs": [
    {
     "name": "stdout",
     "output_type": "stream",
     "text": [
      "b'Hello, TensorFlow! Hello Hoya!'\n"
     ]
    }
   ],
   "source": [
    "import tensorflow as tf\n",
    "hello = tf.constant('Hello, TensorFlow! Hello Hoya!')\n",
    "sess = tf.Session()\n",
    "print(sess.run(hello))"
   ]
  },
  {
   "cell_type": "markdown",
   "metadata": {},
   "source": [
    "<H3>(2) 간단한 계산 - Constant </H3>  \n",
    "그럼 간단한 사칙연산 등이 Tensorflow 에서 어떻게 실행되는지 살펴보자. 아래의 예제들을 보면 간단한 사칙연산이 어떻게 수행되는지 쉽게 이해할 수 있다. 아래는 constant 를 활용하는 방법을 보여준다. a ,b 는 각각 2와 3이라는 값을 고정적으로 할당 받은 상태에서 더하기, 곱하기 연산을 수행한다. "
   ]
  },
  {
   "cell_type": "code",
   "execution_count": 2,
   "metadata": {
    "collapsed": false
   },
   "outputs": [
    {
     "name": "stdout",
     "output_type": "stream",
     "text": [
      "a=2, b=3\n",
      "Addition with constants: 5\n",
      "Multiplication with constants: 6\n"
     ]
    }
   ],
   "source": [
    "import tensorflow as tf\n",
    "\n",
    "# Basic constant operations\n",
    "# The value returned by the constructor represents the output\n",
    "# of the Constant op.\n",
    "a = tf.constant(2)\n",
    "b = tf.constant(3)\n",
    "\n",
    "# Launch the default graph.\n",
    "with tf.Session() as sess:\n",
    "    print(\"a=2, b=3\")\n",
    "    print(\"Addition with constants: %i\" % sess.run(a+b))\n",
    "    print(\"Multiplication with constants: %i\" % sess.run(a*b))"
   ]
  },
  {
   "cell_type": "markdown",
   "metadata": {},
   "source": [
    "<H3>(2) 간단한 계산 - PlaceHolder </H3>    \n",
    "PlaceHolder는 변수 선언시 값을 지정하지 않고 Session 에서 실행하면서 값을 Feeding 하는 형태로 사용되어 진다.   "
   ]
  },
  {
   "cell_type": "code",
   "execution_count": 3,
   "metadata": {
    "collapsed": false
   },
   "outputs": [
    {
     "name": "stdout",
     "output_type": "stream",
     "text": [
      "Addition with variables: 5\n",
      "Multiplication with variables: 6\n"
     ]
    }
   ],
   "source": [
    "import tensorflow as tf\n",
    "\n",
    "a = tf.placeholder(tf.int16)\n",
    "b = tf.placeholder(tf.int16)\n",
    "\n",
    "# Define some operations\n",
    "add = tf.add(a, b)\n",
    "mul = tf.mul(a, b)\n",
    "\n",
    "# Launch the default graph.\n",
    "with tf.Session() as sess:\n",
    "    # Run every operation with variable input\n",
    "    print(\"Addition with variables: %i\" % sess.run(add, feed_dict={a: 2, b: 3}))\n",
    "    print(\"Multiplication with variables: %i\" % sess.run(mul, feed_dict={a: 2, b: 3}))"
   ]
  },
  {
   "cell_type": "markdown",
   "metadata": {},
   "source": [
    "<H3>(2) 간단한 계산 - Variable </H3>    \n",
    "Variable x^2 + 5*x + 5 라는 간단한 식을 연산해보도록 하자. "
   ]
  },
  {
   "cell_type": "code",
   "execution_count": 4,
   "metadata": {
    "collapsed": false
   },
   "outputs": [
    {
     "name": "stdout",
     "output_type": "stream",
     "text": [
      "[  8929 410239 100171 ..., 358201 839971 805505]\n"
     ]
    }
   ],
   "source": [
    "import os\n",
    "import tensorflow as tf\n",
    "import numpy as np\n",
    "\n",
    "data = np.random.randint(1000, size=10000)\n",
    "x = tf.constant(data, name='x')\n",
    "y = tf.Variable(x**2 + 5*x + 5, name='y')\n",
    "\n",
    "model = tf.global_variables_initializer()\n",
    "\n",
    "with tf.Session() as session:\n",
    "    session.run(model)\n",
    "    print(session.run(y))"
   ]
  },
  {
   "cell_type": "markdown",
   "metadata": {},
   "source": [
    "<H3>(2) 간단한 계산 - Matirx </H3>  \n",
    "위의 예 처럼 단순한 변수 형태의 연산도 가능하지만, 실제로 신경망에서는 대부분 Matrix 연산이 이루어진다. 아래는 Matrix 연산의 예이다. "
   ]
  },
  {
   "cell_type": "code",
   "execution_count": 5,
   "metadata": {
    "collapsed": false
   },
   "outputs": [
    {
     "name": "stdout",
     "output_type": "stream",
     "text": [
      "[[ 12.]]\n"
     ]
    }
   ],
   "source": [
    "import tensorflow as tf\n",
    "\n",
    "matrix1 = tf.constant([[3., 3.]])\n",
    "matrix2 = tf.constant([[2.],[2.]])\n",
    "\n",
    "product = tf.matmul(matrix1, matrix2)\n",
    "\n",
    "with tf.Session() as sess:\n",
    "    result = sess.run(product)\n",
    "    print(result)"
   ]
  },
  {
   "cell_type": "markdown",
   "metadata": {},
   "source": [
    "<H3>(3) Session 사용 방법 - 1 </H3>  \n",
    "아래와 같은 패턴으로 Session 을 사용시에는 일일히 Session Close 작업을 할 필요가 없이, with 절을 실행한 후 자동으로 Session 이 종료된다. "
   ]
  },
  {
   "cell_type": "code",
   "execution_count": 6,
   "metadata": {
    "collapsed": false
   },
   "outputs": [
    {
     "name": "stdout",
     "output_type": "stream",
     "text": [
      "[194039 551305 604505 ..., 176819 582931 193159]\n"
     ]
    }
   ],
   "source": [
    "import tensorflow as tf\n",
    "import numpy as np\n",
    "\n",
    "data = np.random.randint(1000, size=10000)\n",
    "\n",
    "x = tf.constant(data, name='x')\n",
    "y = tf.Variable(x**2 + 5*x + 5, name='y')\n",
    "\n",
    "model = tf.global_variables_initializer()\n",
    "\n",
    "with tf.Session() as session:\n",
    "    session.run(model)\n",
    "    print(session.run(y))"
   ]
  },
  {
   "cell_type": "markdown",
   "metadata": {},
   "source": [
    "<H3>(3) Session 사용 방법 - 2 </H3>  \n",
    "아래와 같은 패턴으로 Session을 사용시에는 Session 을 매번 열어줄 필요가 없지만 연산이 종료된 후에 항상 session.close()를 수행해야 한다. "
   ]
  },
  {
   "cell_type": "code",
   "execution_count": 7,
   "metadata": {
    "collapsed": false
   },
   "outputs": [
    {
     "name": "stdout",
     "output_type": "stream",
     "text": [
      "[194039 551305 604505 ..., 176819 582931 193159]\n"
     ]
    }
   ],
   "source": [
    "session = tf.InteractiveSession()\n",
    "x = tf.constant(data, name='x')\n",
    "y = x ** 2 + 5 * x + 5\n",
    "print(y.eval())\n",
    "\n",
    "session.close()"
   ]
  },
  {
   "cell_type": "markdown",
   "metadata": {},
   "source": [
    "<H3>(3) Session 사용 방법 - Loop 연산</H3>   \n",
    "Session 내에서 Loop 를 사용하여 연산하는 것이 가능하다. 아래의 예는 loop_test 라는 input 두개를 받아서 곱하여 리턴하는 method 를 만들고 session 에서 loop 연산을 통해 반복적으로 곱연산을 하는 예제이다.  "
   ]
  },
  {
   "cell_type": "code",
   "execution_count": 8,
   "metadata": {
    "collapsed": false,
    "scrolled": true
   },
   "outputs": [
    {
     "name": "stdout",
     "output_type": "stream",
     "text": [
      "6\n",
      "12\n",
      "18\n",
      "24\n"
     ]
    }
   ],
   "source": [
    "def loop_test(a, b):\n",
    "    a = tf.convert_to_tensor(a, name=\"a\")\n",
    "    b = tf.convert_to_tensor(b, name=\"b\")\n",
    "    return tf.mul(a, b)\n",
    "\n",
    "with tf.Session() as session:\n",
    "      for i in range(1, 5):\n",
    "        print(session.run(loop_test(loop_test(i, 2), 3)))"
   ]
  },
  {
   "cell_type": "code",
   "execution_count": null,
   "metadata": {
    "collapsed": true
   },
   "outputs": [],
   "source": []
  }
 ],
 "metadata": {
  "anaconda-cloud": {},
  "kernelspec": {
   "display_name": "Python [conda root]",
   "language": "python",
   "name": "conda-root-py"
  },
  "language_info": {
   "codemirror_mode": {
    "name": "ipython",
    "version": 3
   },
   "file_extension": ".py",
   "mimetype": "text/x-python",
   "name": "python",
   "nbconvert_exporter": "python",
   "pygments_lexer": "ipython3",
   "version": "3.5.2"
  }
 },
 "nbformat": 4,
 "nbformat_minor": 1
}
