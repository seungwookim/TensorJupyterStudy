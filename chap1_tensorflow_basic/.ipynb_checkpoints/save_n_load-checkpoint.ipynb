{
 "cells": [
  {
   "cell_type": "markdown",
   "metadata": {
    "collapsed": true
   },
   "source": [
    "# Save & Load Variables \n",
    "많은 데이터를 Training 하는 것은 시간이 소요되는 일이다. 때문에 이미 훈련된 모델을 즉각적으로 서비스하거나 기존에 훈련하던 데이터를 이어서 훈련하기 위해서는 Model 를 저장하고 복구하는 작업을 할 필요가 있다. 본 Chapter 에서는 tensorflow.train.Saver() 을 이용하여 Model 을 저장하고 복구하는 방법을 이야기하고자 한다. \n"
   ]
  },
  {
   "cell_type": "markdown",
   "metadata": {
    "collapsed": true
   },
   "source": [
    "<H3>(1) Save Model </H3>    \n",
    "모델을 저장하는 예제를 작성하기 위하여 간단한 Linear Regression 을 예로 사용하였다. 전체적인 Sample Code 는 최초에 Train 시 충분히 훈련이 되지 않을 만큼 낮은 Learning Rate로 조금만 반복 훈련을 하여 Plot 으로 표현시 주어진 데이터가 잘 설명되지 않는 것을 확인하고, 모델을 Restore 하지 않고 계속 Train 을 해서는 모델이 더 이상 나아지지 않는 것을 테스트 한다. Save 에 사용하는 문법은 아래와 같이 간단하다. "
   ]
  },
  {
   "cell_type": "code",
   "execution_count": null,
   "metadata": {
    "collapsed": true
   },
   "outputs": [],
   "source": [
    "saver = tf.train.Saver()\n",
    "with tf.Session() as sess:\n",
    "    saver.save(sess, \"/tmp/chap1_save_restore_model.ckpt\")"
   ]
  },
  {
   "cell_type": "markdown",
   "metadata": {},
   "source": [
    "Linear Regression 등에 대한 상세 설명은 선형회귀 분석 파트에서 설명하도록 한다. "
   ]
  },
  {
   "cell_type": "code",
   "execution_count": 29,
   "metadata": {
    "collapsed": false
   },
   "outputs": [
    {
     "name": "stdout",
     "output_type": "stream",
     "text": [
      "Epoch: 0002 cost= 3.874458790 W= -0.0923272 b= 0.305718\n",
      "Epoch: 0004 cost= 3.248056173 W= -0.0572844 b= 0.310773\n",
      "Epoch: 0006 cost= 2.725327969 W= -0.0252748 b= 0.315401\n",
      "Epoch: 0008 cost= 2.289112091 W= 0.00396385 b= 0.319637\n",
      "Epoch: 0010 cost= 1.925088286 W= 0.0306714 b= 0.323516\n",
      "Epoch: 0012 cost= 1.621306896 W= 0.0550668 b= 0.327068\n",
      "Epoch: 0014 cost= 1.367795944 W= 0.0773501 b= 0.330322\n",
      "Epoch: 0016 cost= 1.156234860 W= 0.0977041 b= 0.333304\n",
      "Epoch: 0018 cost= 0.979680121 W= 0.116296 b= 0.336036\n",
      "Epoch: 0020 cost= 0.832337499 W= 0.133277 b= 0.338542\n",
      "Optimization Finished!\n",
      "Training cost= 0.832337 W= 0.133277 b= 0.338542 \n",
      "\n",
      "Model saved in file: /tmp/chap1_save_restore_model.ckpt\n"
     ]
    },
    {
     "data": {
      "image/png": "[encoded data removed]",
      "text/plain": [
       "<matplotlib.figure.Figure at 0x7f835b6aaef0>"
      ]
     },
     "metadata": {},
     "output_type": "display_data"
    }
   ],
   "source": [
    "import tensorflow as tf\n",
    "import numpy\n",
    "import matplotlib.pyplot as plt\n",
    "\n",
    "rng = numpy.random\n",
    "\n",
    "# Parameters\n",
    "learning_rate = 0.001\n",
    "training_epochs = 20\n",
    "display_step = 2\n",
    "\n",
    "# Training Data\n",
    "train_X = numpy.asarray([3.3,4.4,5.5,6.71,6.93,4.168,9.779,6.182,7.59,2.167,\n",
    "                        7.042,10.791,5.313,7.997,5.654,9.27,3.1])\n",
    "train_Y = numpy.asarray([1.7,2.76,2.09,3.19,1.694,1.573,3.366,2.596,2.53,1.221,\n",
    "                        2.827,3.465,1.65,2.904,2.42,2.94,1.3])\n",
    "n_samples = train_X.shape[0]\n",
    "\n",
    "# tf Graph Input\n",
    "X = tf.placeholder(\"float\")\n",
    "Y = tf.placeholder(\"float\")\n",
    "\n",
    "# Set model weights\n",
    "W = tf.Variable(rng.randn(), name=\"weight\")\n",
    "b = tf.Variable(rng.randn(), name=\"bias\")\n",
    "\n",
    "# Construct a linear model\n",
    "pred = tf.add(tf.mul(X, W), b)\n",
    "\n",
    "# Mean squared error\n",
    "cost = tf.reduce_sum(tf.pow(pred-Y, 2))/(2*n_samples)\n",
    "# Gradient descent\n",
    "optimizer = tf.train.GradientDescentOptimizer(learning_rate).minimize(cost)\n",
    "\n",
    "# Initializing the variables\n",
    "init = tf.global_variables_initializer()\n",
    "\n",
    "saver = tf.train.Saver()\n",
    "\n",
    "# Launch the graph\n",
    "with tf.Session() as sess:\n",
    "    sess.run(init)\n",
    "\n",
    "    # Fit all training data\n",
    "    for epoch in range(training_epochs):\n",
    "        for (x, y) in zip(train_X, train_Y):\n",
    "            sess.run(optimizer, feed_dict={X: x, Y: y})\n",
    "\n",
    "        # Display logs per epoch step\n",
    "        if (epoch+1) % display_step == 0:\n",
    "            c = sess.run(cost, feed_dict={X: train_X, Y:train_Y})\n",
    "            print(\"Epoch:\", '%04d' % (epoch+1), \"cost=\", \"{:.9f}\".format(c), \\\n",
    "                \"W=\", sess.run(W), \"b=\", sess.run(b))\n",
    "\n",
    "    print(\"Optimization Finished!\")\n",
    "    training_cost = sess.run(cost, feed_dict={X: train_X, Y: train_Y})\n",
    "    print(\"Training cost=\", training_cost, \"W=\", sess.run(W), \"b=\", sess.run(b), '\\n')\n",
    "\n",
    "    save_path = saver.save(sess, \"/tmp/chap1_save_restore_model.ckpt\")\n",
    "    print(\"Model saved in file: %s\" % save_path)\n",
    "    \n",
    "    # Graphic display\n",
    "    plt.plot(train_X, train_Y, 'ro', label='Original data')\n",
    "    plt.plot(train_X, sess.run(W) * train_X + sess.run(b), label='Fitted line')\n",
    "    plt.legend()\n",
    "    plt.show()"
   ]
  },
  {
   "cell_type": "markdown",
   "metadata": {
    "collapsed": true
   },
   "source": [
    "<H3>(2) Restore Model & Continue Train </H3>   \n",
    "처음에 Train 하던 Model 을 복구하고 이어서 Train 을 진행한다. 처음 Train 을 진행하였을 때보다 훈련된 W, B 값이 주어진 데이터를 더 잘 설명하는 것을 볼 수 있다. "
   ]
  },
  {
   "cell_type": "code",
   "execution_count": 30,
   "metadata": {
    "collapsed": false
   },
   "outputs": [
    {
     "name": "stdout",
     "output_type": "stream",
     "text": [
      "Model Load finished\n",
      "Epoch: 0002 cost= 0.709372044 W= 0.148789 b= 0.34084\n",
      "Epoch: 0004 cost= 0.606749892 W= 0.162956 b= 0.342948\n",
      "Epoch: 0006 cost= 0.521103442 W= 0.175897 b= 0.344883\n",
      "Epoch: 0008 cost= 0.449623644 W= 0.187716 b= 0.346659\n",
      "Epoch: 0010 cost= 0.389966190 W= 0.198512 b= 0.348291\n",
      "Epoch: 0012 cost= 0.340174317 W= 0.208372 b= 0.349791\n",
      "Epoch: 0014 cost= 0.298616141 W= 0.217378 b= 0.35117\n",
      "Epoch: 0016 cost= 0.263928771 W= 0.225604 b= 0.352439\n",
      "Epoch: 0018 cost= 0.234975681 W= 0.233116 b= 0.353608\n",
      "Epoch: 0020 cost= 0.210808218 W= 0.239977 b= 0.354684\n",
      "Optimization Finished!\n",
      "Training cost= 0.210808 W= 0.239977 b= 0.354684 \n",
      "\n"
     ]
    },
    {
     "data": {
      "image/png": "[encoded data removed]",
      "text/plain": [
       "<matplotlib.figure.Figure at 0x7f8367c46f60>"
      ]
     },
     "metadata": {},
     "output_type": "display_data"
    }
   ],
   "source": [
    "# Launch the graph\n",
    "with tf.Session() as sess:\n",
    "    sess.run(init)\n",
    "    saver.restore(sess, \"/tmp/chap1_save_restore_model.ckpt\")\n",
    "    print(\"Model Load finished\")\n",
    "        \n",
    "    # Fit all training data\n",
    "    for epoch in range(training_epochs):\n",
    "        for (x, y) in zip(train_X, train_Y):\n",
    "            sess.run(optimizer, feed_dict={X: x, Y: y})\n",
    "\n",
    "        # Display logs per epoch step\n",
    "        if (epoch+1) % display_step == 0:\n",
    "            c = sess.run(cost, feed_dict={X: train_X, Y:train_Y})\n",
    "            print(\"Epoch:\", '%04d' % (epoch+1), \"cost=\", \"{:.9f}\".format(c), \\\n",
    "                \"W=\", sess.run(W), \"b=\", sess.run(b))\n",
    "\n",
    "    print(\"Optimization Finished!\")\n",
    "    training_cost = sess.run(cost, feed_dict={X: train_X, Y: train_Y})\n",
    "    print(\"Training cost=\", training_cost, \"W=\", sess.run(W), \"b=\", sess.run(b), '\\n')\n",
    "\n",
    "    save_path = saver.save(sess, \"/tmp/chap1_save_restore_model.ckpt\")\n",
    "    print(\"Model saved in file: %s\" % save_path)\n",
    "    \n",
    "    # Graphic display\n",
    "    plt.plot(train_X, train_Y, 'ro', label='Original data')\n",
    "    plt.plot(train_X, sess.run(W) * train_X + sess.run(b), label='Fitted line')\n",
    "    plt.legend()\n",
    "    plt.show()"
   ]
  },
  {
   "cell_type": "markdown",
   "metadata": {
    "collapsed": true
   },
   "source": [
    "<H3>(3) Restore Model & Predict Result </H3>   \n",
    "모델을 Restore 하고 예측하기를 원하는 값을 넣어서 예측을 해보도록 한다. 훈련된 W와 b 값을 읽어서 입력된 X 값과 WX + b 연산을 해주면 우리가 원하는 Y 값을 구할 수 있다. DNN 에서 Feed Forwarding 을 하는 방법은 추후 다루도록 한다. "
   ]
  },
  {
   "cell_type": "code",
   "execution_count": 34,
   "metadata": {
    "collapsed": false
   },
   "outputs": [
    {
     "name": "stdout",
     "output_type": "stream",
     "text": [
      "result value : 1.6713160276412964\n"
     ]
    }
   ],
   "source": [
    "import tensorflow as tf\n",
    "import numpy\n",
    "\n",
    "def predict_result(input):\n",
    "    with tf.Session() as sess:\n",
    "        sess.run(init)\n",
    "        saver.restore(sess, \"/tmp/chap1_save_restore_model.ckpt\")\n",
    "        return sess.run(W) * input + sess.run(b)\n",
    "    \n",
    "print(\"result value : {0}\".format(predict_result(10)))\n",
    "    \n",
    "    "
   ]
  }
 ],
 "metadata": {
  "anaconda-cloud": {},
  "kernelspec": {
   "display_name": "Python [conda root]",
   "language": "python",
   "name": "conda-root-py"
  },
  "language_info": {
   "codemirror_mode": {
    "name": "ipython",
    "version": 3
   },
   "file_extension": ".py",
   "mimetype": "text/x-python",
   "name": "python",
   "nbconvert_exporter": "python",
   "pygments_lexer": "ipython3",
   "version": "3.5.2"
  }
 },
 "nbformat": 4,
 "nbformat_minor": 1
}
