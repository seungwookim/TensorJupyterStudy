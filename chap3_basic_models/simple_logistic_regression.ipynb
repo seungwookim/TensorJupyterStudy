{
 "cells": [
  {
   "cell_type": "markdown",
   "metadata": {
    "collapsed": true
   },
   "source": [
    "# 로지스틱회귀(Logistic Regression)   \n",
    "그럼 가장 간단한 Linear Regression 을 Tensorflow 로 한번 구현해 보자. 단순 선형회귀를 가정하면 우리가 구하고자 하는 모델은 아마도 y = wx+b 형태가 될 것이고, 우리가 찾고자 하는 값은 주어진 데이터를 가장 잘 설명하는 w와 b 값을 찾는 것이 될 것이다. 그 말은 즉 주어진 데이터와 모델이 차이(Error)를 Minimize 하는 방향으로 w,b 값을 Train 해가면 되는 것이다. Tensorflow 는 기본적으로 이러한 이론을 그대로 코딩하는 형태로 동작한다. 이해를 돕기위하여 아래의 코드를 설명하도록 하겠다. "
   ]
  },
  {
   "cell_type": "code",
   "execution_count": null,
   "metadata": {
    "collapsed": true
   },
   "outputs": [],
   "source": []
  },
  {
   "cell_type": "code",
   "execution_count": 5,
   "metadata": {
    "collapsed": false
   },
   "outputs": [
    {
     "name": "stdout",
     "output_type": "stream",
     "text": [
      "Extracting /tmp/data/train-images-idx3-ubyte.gz\n",
      "Extracting /tmp/data/train-labels-idx1-ubyte.gz\n",
      "Extracting /tmp/data/t10k-images-idx3-ubyte.gz\n",
      "Extracting /tmp/data/t10k-labels-idx1-ubyte.gz\n",
      "Epoch: 0001 cost= 1.182138977\n",
      "Epoch: 0002 cost= 0.664701738\n",
      "Epoch: 0003 cost= 0.552654239\n",
      "Epoch: 0004 cost= 0.498543281\n",
      "Epoch: 0005 cost= 0.465430750\n",
      "Epoch: 0006 cost= 0.442479477\n",
      "Epoch: 0007 cost= 0.425530194\n",
      "Epoch: 0008 cost= 0.412164010\n",
      "Epoch: 0009 cost= 0.401337940\n",
      "Epoch: 0010 cost= 0.392350447\n",
      "Epoch: 0011 cost= 0.384763882\n",
      "Epoch: 0012 cost= 0.378160385\n",
      "Epoch: 0013 cost= 0.372379774\n",
      "Epoch: 0014 cost= 0.367280118\n",
      "Epoch: 0015 cost= 0.362702129\n",
      "Epoch: 0016 cost= 0.358606709\n",
      "Epoch: 0017 cost= 0.354877997\n",
      "Epoch: 0018 cost= 0.351431029\n",
      "Epoch: 0019 cost= 0.348327404\n",
      "Epoch: 0020 cost= 0.345413424\n",
      "Epoch: 0021 cost= 0.342748827\n",
      "Epoch: 0022 cost= 0.340269482\n",
      "Epoch: 0023 cost= 0.337932019\n",
      "Epoch: 0024 cost= 0.335780221\n",
      "Epoch: 0025 cost= 0.333695736\n",
      "Optimization Finished!\n",
      "Accuracy: 0.914\n"
     ]
    }
   ],
   "source": [
    "from __future__ import print_function\n",
    "\n",
    "import tensorflow as tf\n",
    "\n",
    "# Import MNIST data\n",
    "from tensorflow.examples.tutorials.mnist import input_data\n",
    "mnist = input_data.read_data_sets(\"/tmp/data/\", one_hot=True)\n",
    "\n",
    "# Parameters\n",
    "learning_rate = 0.01\n",
    "training_epochs = 25\n",
    "batch_size = 100\n",
    "display_step = 1\n",
    "\n",
    "# tf Graph Input\n",
    "x = tf.placeholder(tf.float32, [None, 784]) # mnist data image of shape 28*28=784\n",
    "y = tf.placeholder(tf.float32, [None, 10]) # 0-9 digits recognition => 10 classes\n",
    "\n",
    "# Set model weights\n",
    "W = tf.Variable(tf.zeros([784, 10]))\n",
    "b = tf.Variable(tf.zeros([10]))\n",
    "\n",
    "# Construct model\n",
    "pred = tf.nn.softmax(tf.matmul(x, W) + b) # Softmax\n",
    "\n",
    "# Minimize error using cross entropy\n",
    "cost = tf.reduce_mean(-tf.reduce_sum(y*tf.log(pred), reduction_indices=1))\n",
    "# Gradient Descent\n",
    "optimizer = tf.train.GradientDescentOptimizer(learning_rate).minimize(cost)\n",
    "\n",
    "# Initializing the variables\n",
    "init = tf.global_variables_initializer()\n",
    "\n",
    "# Launch the graph\n",
    "with tf.Session() as sess:\n",
    "    sess.run(init)\n",
    "\n",
    "    # Training cycle\n",
    "    for epoch in range(training_epochs):\n",
    "        avg_cost = 0.\n",
    "        total_batch = int(mnist.train.num_examples/batch_size)\n",
    "        # Loop over all batches\n",
    "        for i in range(total_batch):\n",
    "            batch_xs, batch_ys = mnist.train.next_batch(batch_size)\n",
    "            # Run optimization op (backprop) and cost op (to get loss value)\n",
    "            _, c = sess.run([optimizer, cost], feed_dict={x: batch_xs,\n",
    "                                                          y: batch_ys})\n",
    "            # Compute average loss\n",
    "            avg_cost += c / total_batch\n",
    "        # Display logs per epoch step\n",
    "        if (epoch+1) % display_step == 0:\n",
    "            print(\"Epoch:\", '%04d' % (epoch+1), \"cost=\", \"{:.9f}\".format(avg_cost))\n",
    "\n",
    "    print(\"Optimization Finished!\")\n",
    "\n",
    "    # Test model\n",
    "    correct_prediction = tf.equal(tf.argmax(pred, 1), tf.argmax(y, 1))\n",
    "    # Calculate accuracy\n",
    "    accuracy = tf.reduce_mean(tf.cast(correct_prediction, tf.float32))\n",
    "    print(\"Accuracy:\", accuracy.eval({x: mnist.test.images, y: mnist.test.labels}))"
   ]
  },
  {
   "cell_type": "code",
   "execution_count": null,
   "metadata": {
    "collapsed": true
   },
   "outputs": [],
   "source": []
  }
 ],
 "metadata": {
  "anaconda-cloud": {},
  "kernelspec": {
   "display_name": "Python [conda root]",
   "language": "python",
   "name": "conda-root-py"
  },
  "language_info": {
   "codemirror_mode": {
    "name": "ipython",
    "version": 3
   },
   "file_extension": ".py",
   "mimetype": "text/x-python",
   "name": "python",
   "nbconvert_exporter": "python",
   "pygments_lexer": "ipython3",
   "version": "3.5.2"
  }
 },
 "nbformat": 4,
 "nbformat_minor": 1
}
